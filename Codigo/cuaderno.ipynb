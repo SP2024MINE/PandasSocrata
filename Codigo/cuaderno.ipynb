{
 "cells": [
  {
   "cell_type": "code",
   "execution_count": 1,
   "metadata": {},
   "outputs": [
    {
     "name": "stderr",
     "output_type": "stream",
     "text": [
      "/var/folders/hs/q_ncl_2s737_06sj3c4ry41m0000gn/T/ipykernel_11977/4162852663.py:2: DeprecationWarning: \n",
      "Pyarrow will become a required dependency of pandas in the next major release of pandas (pandas 3.0),\n",
      "(to allow more performant data types, such as the Arrow string type, and better interoperability with other libraries)\n",
      "but was not found to be installed on your system.\n",
      "If this would cause problems for you,\n",
      "please provide us feedback at https://github.com/pandas-dev/pandas/issues/54466\n",
      "        \n",
      "  import pandas as pd\n",
      "WARNING:root:Requests made without an app_token will be subject to strict throttling limits.\n"
     ]
    }
   ],
   "source": [
    "#poetry install python-dotenv\n",
    "import pandas as pd\n",
    "from sodapy import Socrata\n",
    "import os\n",
    "from dotenv import load_dotenv\n",
    "\n",
    "load_dotenv('.env')\n",
    "#TOKEN_APP = os.getenv(\"SECRET_TOKEN\")\n",
    "#TOKEN_USER = os.getenv(\"TOKEN_USER\")\n",
    "#TOKEN_PASS = os.getenv(\"TOKE_PASS\")\n",
    "\n",
    "client = Socrata(\n",
    "        \"www.datos.gov.co\", None)\n",
    "        #TOKEN_APP,\n",
    "        #username= TOKEN_USER,\n",
    "        #password= TOKEN_PASS,\n",
    "        #timeout=5000)\n",
    "\n",
    "\n",
    "consulta =  \"\"\"SELECT tipo_de_contrato, nombre_entidad, fecha_de_firma\n",
    "WHERE nombre_entidad = \"FABRICA DE LICORES DEL TOLIMA\"\n",
    "limit 1000\"\"\"\n",
    "data_id = \"jbjy-vk9h\"\n",
    "\n",
    "results = client.get(data_id, query = consulta)\n",
    "results_df = pd.DataFrame.from_records(results)"
   ]
  },
  {
   "cell_type": "code",
   "execution_count": 5,
   "metadata": {},
   "outputs": [
    {
     "data": {
      "text/html": [
       "<div>\n",
       "<style scoped>\n",
       "    .dataframe tbody tr th:only-of-type {\n",
       "        vertical-align: middle;\n",
       "    }\n",
       "\n",
       "    .dataframe tbody tr th {\n",
       "        vertical-align: top;\n",
       "    }\n",
       "\n",
       "    .dataframe thead th {\n",
       "        text-align: right;\n",
       "    }\n",
       "</style>\n",
       "<table border=\"1\" class=\"dataframe\">\n",
       "  <thead>\n",
       "    <tr style=\"text-align: right;\">\n",
       "      <th></th>\n",
       "      <th>tipo_de_contrato</th>\n",
       "      <th>nombre_entidad</th>\n",
       "      <th>fecha_de_firma</th>\n",
       "    </tr>\n",
       "  </thead>\n",
       "  <tbody>\n",
       "    <tr>\n",
       "      <th>0</th>\n",
       "      <td>Prestación de servicios</td>\n",
       "      <td>FABRICA DE LICORES DEL TOLIMA</td>\n",
       "      <td>2022-01-27T00:00:00.000</td>\n",
       "    </tr>\n",
       "    <tr>\n",
       "      <th>1</th>\n",
       "      <td>Suministros</td>\n",
       "      <td>FABRICA DE LICORES DEL TOLIMA</td>\n",
       "      <td>2023-02-14T00:00:00.000</td>\n",
       "    </tr>\n",
       "    <tr>\n",
       "      <th>2</th>\n",
       "      <td>Prestación de servicios</td>\n",
       "      <td>FABRICA DE LICORES DEL TOLIMA</td>\n",
       "      <td>2022-08-10T00:00:00.000</td>\n",
       "    </tr>\n",
       "    <tr>\n",
       "      <th>3</th>\n",
       "      <td>Suministros</td>\n",
       "      <td>FABRICA DE LICORES DEL TOLIMA</td>\n",
       "      <td>2023-08-16T00:00:00.000</td>\n",
       "    </tr>\n",
       "    <tr>\n",
       "      <th>4</th>\n",
       "      <td>Prestación de servicios</td>\n",
       "      <td>FABRICA DE LICORES DEL TOLIMA</td>\n",
       "      <td>2023-06-26T00:00:00.000</td>\n",
       "    </tr>\n",
       "  </tbody>\n",
       "</table>\n",
       "</div>"
      ],
      "text/plain": [
       "          tipo_de_contrato                 nombre_entidad  \\\n",
       "0  Prestación de servicios  FABRICA DE LICORES DEL TOLIMA   \n",
       "1              Suministros  FABRICA DE LICORES DEL TOLIMA   \n",
       "2  Prestación de servicios  FABRICA DE LICORES DEL TOLIMA   \n",
       "3              Suministros  FABRICA DE LICORES DEL TOLIMA   \n",
       "4  Prestación de servicios  FABRICA DE LICORES DEL TOLIMA   \n",
       "\n",
       "            fecha_de_firma  \n",
       "0  2022-01-27T00:00:00.000  \n",
       "1  2023-02-14T00:00:00.000  \n",
       "2  2022-08-10T00:00:00.000  \n",
       "3  2023-08-16T00:00:00.000  \n",
       "4  2023-06-26T00:00:00.000  "
      ]
     },
     "execution_count": 5,
     "metadata": {},
     "output_type": "execute_result"
    }
   ],
   "source": [
    "results_df.head()\n"
   ]
  }
 ],
 "metadata": {
  "kernelspec": {
   "display_name": "pandassocrata_1",
   "language": "python",
   "name": "python3"
  },
  "language_info": {
   "codemirror_mode": {
    "name": "ipython",
    "version": 3
   },
   "file_extension": ".py",
   "mimetype": "text/x-python",
   "name": "python",
   "nbconvert_exporter": "python",
   "pygments_lexer": "ipython3",
   "version": "3.10.14"
  }
 },
 "nbformat": 4,
 "nbformat_minor": 2
}
