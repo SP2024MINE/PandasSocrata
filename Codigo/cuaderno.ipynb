{
 "cells": [
  {
   "cell_type": "code",
   "execution_count": 34,
   "metadata": {},
   "outputs": [
    {
     "name": "stderr",
     "output_type": "stream",
     "text": [
      "WARNING:root:Requests made without an app_token will be subject to strict throttling limits.\n"
     ]
    }
   ],
   "source": [
    "#poetry install python-dotenv\n",
    "import pandas as pd\n",
    "from sodapy import Socrata\n",
    "import os\n",
    "from dotenv import load_dotenv\n",
    "import re\n",
    "\n",
    "load_dotenv('.env')\n",
    "#TOKEN_APP = os.getenv(\"SECRET_TOKEN\")\n",
    "#TOKEN_USER = os.getenv(\"TOKEN_USER\")\n",
    "#TOKEN_PASS = os.getenv(\"TOKE_PASS\")\n",
    "\n",
    "client = Socrata(\n",
    "        \"www.datos.gov.co\", None)\n",
    "        #TOKEN_APP,\n",
    "        #username= TOKEN_USER,\n",
    "        #password= TOKEN_PASS,\n",
    "        #timeout=5000)\n",
    "\n",
    "\n",
    "consulta =  \"\"\"SELECT \n",
    "proveedor_adjudicado,\n",
    "tipo_de_contrato, \n",
    "modalidad_de_contratacion,\n",
    "valor_del_contrato,\n",
    "fecha_de_firma,\n",
    "estado_contrato, \n",
    "duraci_n_del_contrato,\n",
    "condiciones_de_entrega \t\n",
    "WHERE nombre_entidad = \"FABRICA DE LICORES DEL TOLIMA\"\n",
    "limit 2000\"\"\"\n",
    "data_id = \"jbjy-vk9h\"\n",
    "\n",
    "results = client.get(data_id, query = consulta)\n",
    "df = pd.DataFrame.from_records(results)"
   ]
  },
  {
   "cell_type": "code",
   "execution_count": 42,
   "metadata": {},
   "outputs": [
    {
     "data": {
      "text/html": [
       "<div>\n",
       "<style scoped>\n",
       "    .dataframe tbody tr th:only-of-type {\n",
       "        vertical-align: middle;\n",
       "    }\n",
       "\n",
       "    .dataframe tbody tr th {\n",
       "        vertical-align: top;\n",
       "    }\n",
       "\n",
       "    .dataframe thead th {\n",
       "        text-align: right;\n",
       "    }\n",
       "</style>\n",
       "<table border=\"1\" class=\"dataframe\">\n",
       "  <thead>\n",
       "    <tr style=\"text-align: right;\">\n",
       "      <th></th>\n",
       "      <th>proveedor_adjudicado</th>\n",
       "      <th>tipo_de_contrato</th>\n",
       "      <th>modalidad_de_contratacion</th>\n",
       "      <th>valor_del_contrato</th>\n",
       "      <th>fecha_de_firma</th>\n",
       "      <th>estado_contrato</th>\n",
       "      <th>condiciones_de_entrega</th>\n",
       "      <th>duracion_en_dias</th>\n",
       "    </tr>\n",
       "  </thead>\n",
       "  <tbody>\n",
       "    <tr>\n",
       "      <th>0</th>\n",
       "      <td>CASTILLO GRUPO EMPRESARIAL</td>\n",
       "      <td>Suministros</td>\n",
       "      <td>Contratación directa</td>\n",
       "      <td>20050000</td>\n",
       "      <td>2024-03-11</td>\n",
       "      <td>En ejecución</td>\n",
       "      <td>No Definido</td>\n",
       "      <td>4.0</td>\n",
       "    </tr>\n",
       "    <tr>\n",
       "      <th>1</th>\n",
       "      <td>MEGATEX DOTACIONES SAS</td>\n",
       "      <td>Suministros</td>\n",
       "      <td>Contratación directa</td>\n",
       "      <td>162542100</td>\n",
       "      <td>2023-02-14</td>\n",
       "      <td>En ejecución</td>\n",
       "      <td>No Definido</td>\n",
       "      <td>330.0</td>\n",
       "    </tr>\n",
       "    <tr>\n",
       "      <th>2</th>\n",
       "      <td>KAREN CAROLAY GUTIERREZ ORTIZ</td>\n",
       "      <td>Prestación de servicios</td>\n",
       "      <td>Contratación directa</td>\n",
       "      <td>2550000</td>\n",
       "      <td>2021-11-09</td>\n",
       "      <td>terminado</td>\n",
       "      <td>A convenir</td>\n",
       "      <td>51.0</td>\n",
       "    </tr>\n",
       "    <tr>\n",
       "      <th>3</th>\n",
       "      <td>PEDRO JOSE CASTILLO JARAMILLO</td>\n",
       "      <td>Prestación de servicios</td>\n",
       "      <td>Contratación directa</td>\n",
       "      <td>32000000</td>\n",
       "      <td>2023-05-05</td>\n",
       "      <td>En ejecución</td>\n",
       "      <td>A convenir</td>\n",
       "      <td>240.0</td>\n",
       "    </tr>\n",
       "    <tr>\n",
       "      <th>4</th>\n",
       "      <td>Johnnatan Pulgarin aguirre</td>\n",
       "      <td>Prestación de servicios</td>\n",
       "      <td>Contratación directa</td>\n",
       "      <td>5000000</td>\n",
       "      <td>2023-05-19</td>\n",
       "      <td>En ejecución</td>\n",
       "      <td>No Definido</td>\n",
       "      <td>60.0</td>\n",
       "    </tr>\n",
       "  </tbody>\n",
       "</table>\n",
       "</div>"
      ],
      "text/plain": [
       "            proveedor_adjudicado         tipo_de_contrato  \\\n",
       "0     CASTILLO GRUPO EMPRESARIAL              Suministros   \n",
       "1         MEGATEX DOTACIONES SAS              Suministros   \n",
       "2  KAREN CAROLAY GUTIERREZ ORTIZ  Prestación de servicios   \n",
       "3  PEDRO JOSE CASTILLO JARAMILLO  Prestación de servicios   \n",
       "4     Johnnatan Pulgarin aguirre  Prestación de servicios   \n",
       "\n",
       "  modalidad_de_contratacion valor_del_contrato fecha_de_firma estado_contrato  \\\n",
       "0      Contratación directa           20050000     2024-03-11    En ejecución   \n",
       "1      Contratación directa          162542100     2023-02-14    En ejecución   \n",
       "2      Contratación directa            2550000     2021-11-09       terminado   \n",
       "3      Contratación directa           32000000     2023-05-05    En ejecución   \n",
       "4      Contratación directa            5000000     2023-05-19    En ejecución   \n",
       "\n",
       "  condiciones_de_entrega  duracion_en_dias  \n",
       "0            No Definido               4.0  \n",
       "1            No Definido             330.0  \n",
       "2             A convenir              51.0  \n",
       "3             A convenir             240.0  \n",
       "4            No Definido              60.0  "
      ]
     },
     "execution_count": 42,
     "metadata": {},
     "output_type": "execute_result"
    }
   ],
   "source": [
    "df.head()\n"
   ]
  },
  {
   "cell_type": "code",
   "execution_count": 36,
   "metadata": {},
   "outputs": [],
   "source": [
    "\n",
    "# Función para convertir el tiempo a días\n",
    "def convertir_a_dias(tiempo):\n",
    "    match = re.match(r'(\\d+)\\s*(Dia\\(s\\)|Mes\\(es\\))', tiempo)\n",
    "    if match:\n",
    "        cantidad = int(match.group(1))\n",
    "        unidad = match.group(2)\n",
    "        if unidad == 'Dia(s)':\n",
    "            return cantidad\n",
    "        elif unidad == 'Mes(es)':\n",
    "            return cantidad * 30  # Asumiendo 30 días por mes\n",
    "    return None\n",
    " \n",
    "# Aplicar la función a la columna 'duracion'\n",
    "df['duracion_en_dias'] = df['duraci_n_del_contrato'].apply(convertir_a_dias)"
   ]
  },
  {
   "cell_type": "code",
   "execution_count": 37,
   "metadata": {},
   "outputs": [],
   "source": [
    "df = df.drop(columns=['duraci_n_del_contrato'])"
   ]
  },
  {
   "cell_type": "code",
   "execution_count": 41,
   "metadata": {},
   "outputs": [],
   "source": [
    "df['fecha_de_firma'] = pd.to_datetime(df['fecha_de_firma'])\n",
    "df['fecha_de_firma'] = df['fecha_de_firma'].dt.date"
   ]
  },
  {
   "cell_type": "code",
   "execution_count": 43,
   "metadata": {},
   "outputs": [
    {
     "ename": "KeyError",
     "evalue": "'tipo_contrato'",
     "output_type": "error",
     "traceback": [
      "\u001b[1;31m---------------------------------------------------------------------------\u001b[0m",
      "\u001b[1;31mKeyError\u001b[0m                                  Traceback (most recent call last)",
      "File \u001b[1;32mc:\\Users\\alest\\miniconda3\\envs\\pandassocrata_1\\lib\\site-packages\\pandas\\core\\indexes\\base.py:3805\u001b[0m, in \u001b[0;36mIndex.get_loc\u001b[1;34m(self, key)\u001b[0m\n\u001b[0;32m   3804\u001b[0m \u001b[38;5;28;01mtry\u001b[39;00m:\n\u001b[1;32m-> 3805\u001b[0m     \u001b[38;5;28;01mreturn\u001b[39;00m \u001b[38;5;28;43mself\u001b[39;49m\u001b[38;5;241;43m.\u001b[39;49m\u001b[43m_engine\u001b[49m\u001b[38;5;241;43m.\u001b[39;49m\u001b[43mget_loc\u001b[49m\u001b[43m(\u001b[49m\u001b[43mcasted_key\u001b[49m\u001b[43m)\u001b[49m\n\u001b[0;32m   3806\u001b[0m \u001b[38;5;28;01mexcept\u001b[39;00m \u001b[38;5;167;01mKeyError\u001b[39;00m \u001b[38;5;28;01mas\u001b[39;00m err:\n",
      "File \u001b[1;32mindex.pyx:167\u001b[0m, in \u001b[0;36mpandas._libs.index.IndexEngine.get_loc\u001b[1;34m()\u001b[0m\n",
      "File \u001b[1;32mindex.pyx:196\u001b[0m, in \u001b[0;36mpandas._libs.index.IndexEngine.get_loc\u001b[1;34m()\u001b[0m\n",
      "File \u001b[1;32mpandas\\\\_libs\\\\hashtable_class_helper.pxi:7081\u001b[0m, in \u001b[0;36mpandas._libs.hashtable.PyObjectHashTable.get_item\u001b[1;34m()\u001b[0m\n",
      "File \u001b[1;32mpandas\\\\_libs\\\\hashtable_class_helper.pxi:7089\u001b[0m, in \u001b[0;36mpandas._libs.hashtable.PyObjectHashTable.get_item\u001b[1;34m()\u001b[0m\n",
      "\u001b[1;31mKeyError\u001b[0m: 'tipo_contrato'",
      "\nThe above exception was the direct cause of the following exception:\n",
      "\u001b[1;31mKeyError\u001b[0m                                  Traceback (most recent call last)",
      "Cell \u001b[1;32mIn[43], line 1\u001b[0m\n\u001b[1;32m----> 1\u001b[0m list_tipo \u001b[38;5;241m=\u001b[39m \u001b[43mdf\u001b[49m\u001b[43m[\u001b[49m\n\u001b[0;32m      2\u001b[0m \u001b[38;5;124;43m'\u001b[39;49m\u001b[38;5;124;43mtipo_contrato\u001b[39;49m\u001b[38;5;124;43m'\u001b[39;49m\n\u001b[0;32m      3\u001b[0m \u001b[43m]\u001b[49m\u001b[38;5;241m.\u001b[39mdrop_duplicates()\n",
      "File \u001b[1;32mc:\\Users\\alest\\miniconda3\\envs\\pandassocrata_1\\lib\\site-packages\\pandas\\core\\frame.py:4102\u001b[0m, in \u001b[0;36mDataFrame.__getitem__\u001b[1;34m(self, key)\u001b[0m\n\u001b[0;32m   4100\u001b[0m \u001b[38;5;28;01mif\u001b[39;00m \u001b[38;5;28mself\u001b[39m\u001b[38;5;241m.\u001b[39mcolumns\u001b[38;5;241m.\u001b[39mnlevels \u001b[38;5;241m>\u001b[39m \u001b[38;5;241m1\u001b[39m:\n\u001b[0;32m   4101\u001b[0m     \u001b[38;5;28;01mreturn\u001b[39;00m \u001b[38;5;28mself\u001b[39m\u001b[38;5;241m.\u001b[39m_getitem_multilevel(key)\n\u001b[1;32m-> 4102\u001b[0m indexer \u001b[38;5;241m=\u001b[39m \u001b[38;5;28;43mself\u001b[39;49m\u001b[38;5;241;43m.\u001b[39;49m\u001b[43mcolumns\u001b[49m\u001b[38;5;241;43m.\u001b[39;49m\u001b[43mget_loc\u001b[49m\u001b[43m(\u001b[49m\u001b[43mkey\u001b[49m\u001b[43m)\u001b[49m\n\u001b[0;32m   4103\u001b[0m \u001b[38;5;28;01mif\u001b[39;00m is_integer(indexer):\n\u001b[0;32m   4104\u001b[0m     indexer \u001b[38;5;241m=\u001b[39m [indexer]\n",
      "File \u001b[1;32mc:\\Users\\alest\\miniconda3\\envs\\pandassocrata_1\\lib\\site-packages\\pandas\\core\\indexes\\base.py:3812\u001b[0m, in \u001b[0;36mIndex.get_loc\u001b[1;34m(self, key)\u001b[0m\n\u001b[0;32m   3807\u001b[0m     \u001b[38;5;28;01mif\u001b[39;00m \u001b[38;5;28misinstance\u001b[39m(casted_key, \u001b[38;5;28mslice\u001b[39m) \u001b[38;5;129;01mor\u001b[39;00m (\n\u001b[0;32m   3808\u001b[0m         \u001b[38;5;28misinstance\u001b[39m(casted_key, abc\u001b[38;5;241m.\u001b[39mIterable)\n\u001b[0;32m   3809\u001b[0m         \u001b[38;5;129;01mand\u001b[39;00m \u001b[38;5;28many\u001b[39m(\u001b[38;5;28misinstance\u001b[39m(x, \u001b[38;5;28mslice\u001b[39m) \u001b[38;5;28;01mfor\u001b[39;00m x \u001b[38;5;129;01min\u001b[39;00m casted_key)\n\u001b[0;32m   3810\u001b[0m     ):\n\u001b[0;32m   3811\u001b[0m         \u001b[38;5;28;01mraise\u001b[39;00m InvalidIndexError(key)\n\u001b[1;32m-> 3812\u001b[0m     \u001b[38;5;28;01mraise\u001b[39;00m \u001b[38;5;167;01mKeyError\u001b[39;00m(key) \u001b[38;5;28;01mfrom\u001b[39;00m \u001b[38;5;21;01merr\u001b[39;00m\n\u001b[0;32m   3813\u001b[0m \u001b[38;5;28;01mexcept\u001b[39;00m \u001b[38;5;167;01mTypeError\u001b[39;00m:\n\u001b[0;32m   3814\u001b[0m     \u001b[38;5;66;03m# If we have a listlike key, _check_indexing_error will raise\u001b[39;00m\n\u001b[0;32m   3815\u001b[0m     \u001b[38;5;66;03m#  InvalidIndexError. Otherwise we fall through and re-raise\u001b[39;00m\n\u001b[0;32m   3816\u001b[0m     \u001b[38;5;66;03m#  the TypeError.\u001b[39;00m\n\u001b[0;32m   3817\u001b[0m     \u001b[38;5;28mself\u001b[39m\u001b[38;5;241m.\u001b[39m_check_indexing_error(key)\n",
      "\u001b[1;31mKeyError\u001b[0m: 'tipo_contrato'"
     ]
    }
   ],
   "source": [
    "list_tipo = df[\n",
    "'tipo_de_contrato'\n",
    "].drop_duplicates()"
   ]
  },
  {
   "cell_type": "code",
   "execution_count": 38,
   "metadata": {},
   "outputs": [],
   "source": [
    "results_df.proveedor_adjudicado = results_df.proveedor_adjudicado.str.upper()"
   ]
  },
  {
   "cell_type": "code",
   "execution_count": 39,
   "metadata": {},
   "outputs": [
    {
     "data": {
      "text/plain": [
       "proveedor_adjudicado\n",
       "SIN DESCRIPCION                      50\n",
       "LEON GRAFICAS S.A.S                  13\n",
       "ALLARTE LOGISTICA EMPRESARIAL SAS    13\n",
       "SANDRA MILENA GUTIERREZ BUITRAGO     11\n",
       "EDWIN ANDRÉS CASTRO NAVARRO          10\n",
       "CARACOL S.A.                         10\n",
       "NATALIA ANDREA DUQUE MUÑOZ           10\n",
       "JOSE FERNANDO PASSOS VILLARREAL      10\n",
       "RUTH MARINA ZEA JAIQUEL               9\n",
       "RCN RADIO S.A.S                       9\n",
       "Name: count, dtype: int64"
      ]
     },
     "execution_count": 39,
     "metadata": {},
     "output_type": "execute_result"
    }
   ],
   "source": [
    "results_df.proveedor_adjudicado.value_counts().head(10)"
   ]
  },
  {
   "cell_type": "code",
   "execution_count": 31,
   "metadata": {},
   "outputs": [
    {
     "data": {
      "text/plain": [
       "tipo_de_contrato\n",
       "Prestación de servicios       1016\n",
       "Suministros                     72\n",
       "Compraventa                     24\n",
       "Consultoría                      4\n",
       "Otro                             4\n",
       "Seguros                          3\n",
       "Arrendamiento de inmuebles       2\n",
       "Servicios financieros            1\n",
       "Venta muebles                    1\n",
       "Obra                             1\n",
       "Name: count, dtype: int64"
      ]
     },
     "execution_count": 31,
     "metadata": {},
     "output_type": "execute_result"
    }
   ],
   "source": [
    "results_df.tipo_de_contrato.value_counts()"
   ]
  },
  {
   "cell_type": "code",
   "execution_count": 9,
   "metadata": {},
   "outputs": [
    {
     "data": {
      "text/plain": [
       "tipo_de_contrato              10\n",
       "nombre_entidad                 1\n",
       "fecha_de_firma               355\n",
       "estado_contrato                9\n",
       "modalidad_de_contratacion      7\n",
       "condiciones_de_entrega         5\n",
       "valor_del_contrato           416\n",
       "duraci_n_del_contrato         95\n",
       "proveedor_adjudicado         444\n",
       "dtype: int64"
      ]
     },
     "execution_count": 9,
     "metadata": {},
     "output_type": "execute_result"
    }
   ],
   "source": [
    "results_df.nunique()"
   ]
  },
  {
   "cell_type": "code",
   "execution_count": null,
   "metadata": {},
   "outputs": [],
   "source": []
  }
 ],
 "metadata": {
  "kernelspec": {
   "display_name": "pandassocrata_1",
   "language": "python",
   "name": "python3"
  },
  "language_info": {
   "codemirror_mode": {
    "name": "ipython",
    "version": 3
   },
   "file_extension": ".py",
   "mimetype": "text/x-python",
   "name": "python",
   "nbconvert_exporter": "python",
   "pygments_lexer": "ipython3",
   "version": "3.10.14"
  }
 },
 "nbformat": 4,
 "nbformat_minor": 2
}
