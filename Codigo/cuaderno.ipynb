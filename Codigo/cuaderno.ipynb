{
 "cells": [
  {
   "cell_type": "code",
   "execution_count": 26,
   "metadata": {},
   "outputs": [
    {
     "name": "stderr",
     "output_type": "stream",
     "text": [
      "WARNING:root:Requests made without an app_token will be subject to strict throttling limits.\n"
     ]
    }
   ],
   "source": [
    "#poetry install python-dotenv\n",
    "import pandas as pd\n",
    "from sodapy import Socrata\n",
    "import os\n",
    "from dotenv import load_dotenv\n",
    "import re\n",
    "\n",
    "load_dotenv('.env')\n",
    "#TOKEN_APP = os.getenv(\"SECRET_TOKEN\")\n",
    "#TOKEN_USER = os.getenv(\"TOKEN_USER\")\n",
    "#TOKEN_PASS = os.getenv(\"TOKE_PASS\")\n",
    "\n",
    "client = Socrata(\n",
    "        \"www.datos.gov.co\", None)\n",
    "        #TOKEN_APP,\n",
    "        #username= TOKEN_USER,\n",
    "        #password= TOKEN_PASS,\n",
    "        #timeout=5000)\n",
    "\n",
    "\n",
    "consulta =  \"\"\"SELECT \n",
    "proveedor_adjudicado,\n",
    "tipo_de_contrato, \n",
    "modalidad_de_contratacion,\n",
    "valor_del_contrato,\n",
    "fecha_de_firma,\n",
    "estado_contrato, \n",
    "duraci_n_del_contrato,\n",
    "condiciones_de_entrega \t\n",
    "WHERE nombre_entidad = \"FABRICA DE LICORES DEL TOLIMA\"\n",
    "limit 2000\"\"\"\n",
    "data_id = \"jbjy-vk9h\"\n",
    "\n",
    "results = client.get(data_id, query = consulta)\n",
    "results_df = pd.DataFrame.from_records(results)"
   ]
  },
  {
   "cell_type": "code",
   "execution_count": 28,
   "metadata": {},
   "outputs": [
    {
     "data": {
      "text/html": [
       "<div>\n",
       "<style scoped>\n",
       "    .dataframe tbody tr th:only-of-type {\n",
       "        vertical-align: middle;\n",
       "    }\n",
       "\n",
       "    .dataframe tbody tr th {\n",
       "        vertical-align: top;\n",
       "    }\n",
       "\n",
       "    .dataframe thead th {\n",
       "        text-align: right;\n",
       "    }\n",
       "</style>\n",
       "<table border=\"1\" class=\"dataframe\">\n",
       "  <thead>\n",
       "    <tr style=\"text-align: right;\">\n",
       "      <th></th>\n",
       "      <th>proveedor_adjudicado</th>\n",
       "      <th>tipo_de_contrato</th>\n",
       "      <th>modalidad_de_contratacion</th>\n",
       "      <th>valor_del_contrato</th>\n",
       "      <th>fecha_de_firma</th>\n",
       "      <th>estado_contrato</th>\n",
       "      <th>duraci_n_del_contrato</th>\n",
       "      <th>condiciones_de_entrega</th>\n",
       "      <th>duracion_en_dias</th>\n",
       "    </tr>\n",
       "  </thead>\n",
       "  <tbody>\n",
       "    <tr>\n",
       "      <th>0</th>\n",
       "      <td>CASTILLO GRUPO EMPRESARIAL</td>\n",
       "      <td>Suministros</td>\n",
       "      <td>Contratación directa</td>\n",
       "      <td>20050000</td>\n",
       "      <td>2024-03-11T00:00:00.000</td>\n",
       "      <td>En ejecución</td>\n",
       "      <td>4 Dia(s)</td>\n",
       "      <td>No Definido</td>\n",
       "      <td>4.0</td>\n",
       "    </tr>\n",
       "    <tr>\n",
       "      <th>1</th>\n",
       "      <td>MEGATEX DOTACIONES SAS</td>\n",
       "      <td>Suministros</td>\n",
       "      <td>Contratación directa</td>\n",
       "      <td>162542100</td>\n",
       "      <td>2023-02-14T00:00:00.000</td>\n",
       "      <td>En ejecución</td>\n",
       "      <td>11 Mes(es)</td>\n",
       "      <td>No Definido</td>\n",
       "      <td>330.0</td>\n",
       "    </tr>\n",
       "    <tr>\n",
       "      <th>2</th>\n",
       "      <td>KAREN CAROLAY GUTIERREZ ORTIZ</td>\n",
       "      <td>Prestación de servicios</td>\n",
       "      <td>Contratación directa</td>\n",
       "      <td>2550000</td>\n",
       "      <td>2021-11-09T00:00:00.000</td>\n",
       "      <td>terminado</td>\n",
       "      <td>51 Dia(s)</td>\n",
       "      <td>A convenir</td>\n",
       "      <td>51.0</td>\n",
       "    </tr>\n",
       "    <tr>\n",
       "      <th>3</th>\n",
       "      <td>PEDRO JOSE CASTILLO JARAMILLO</td>\n",
       "      <td>Prestación de servicios</td>\n",
       "      <td>Contratación directa</td>\n",
       "      <td>32000000</td>\n",
       "      <td>2023-05-05T00:00:00.000</td>\n",
       "      <td>En ejecución</td>\n",
       "      <td>8 Mes(es)</td>\n",
       "      <td>A convenir</td>\n",
       "      <td>240.0</td>\n",
       "    </tr>\n",
       "    <tr>\n",
       "      <th>4</th>\n",
       "      <td>Johnnatan Pulgarin aguirre</td>\n",
       "      <td>Prestación de servicios</td>\n",
       "      <td>Contratación directa</td>\n",
       "      <td>5000000</td>\n",
       "      <td>2023-05-19T00:00:00.000</td>\n",
       "      <td>En ejecución</td>\n",
       "      <td>2 Mes(es)</td>\n",
       "      <td>No Definido</td>\n",
       "      <td>60.0</td>\n",
       "    </tr>\n",
       "  </tbody>\n",
       "</table>\n",
       "</div>"
      ],
      "text/plain": [
       "            proveedor_adjudicado         tipo_de_contrato  \\\n",
       "0     CASTILLO GRUPO EMPRESARIAL              Suministros   \n",
       "1         MEGATEX DOTACIONES SAS              Suministros   \n",
       "2  KAREN CAROLAY GUTIERREZ ORTIZ  Prestación de servicios   \n",
       "3  PEDRO JOSE CASTILLO JARAMILLO  Prestación de servicios   \n",
       "4     Johnnatan Pulgarin aguirre  Prestación de servicios   \n",
       "\n",
       "  modalidad_de_contratacion valor_del_contrato           fecha_de_firma  \\\n",
       "0      Contratación directa           20050000  2024-03-11T00:00:00.000   \n",
       "1      Contratación directa          162542100  2023-02-14T00:00:00.000   \n",
       "2      Contratación directa            2550000  2021-11-09T00:00:00.000   \n",
       "3      Contratación directa           32000000  2023-05-05T00:00:00.000   \n",
       "4      Contratación directa            5000000  2023-05-19T00:00:00.000   \n",
       "\n",
       "  estado_contrato duraci_n_del_contrato condiciones_de_entrega  \\\n",
       "0    En ejecución              4 Dia(s)            No Definido   \n",
       "1    En ejecución            11 Mes(es)            No Definido   \n",
       "2       terminado             51 Dia(s)             A convenir   \n",
       "3    En ejecución             8 Mes(es)             A convenir   \n",
       "4    En ejecución             2 Mes(es)            No Definido   \n",
       "\n",
       "   duracion_en_dias  \n",
       "0               4.0  \n",
       "1             330.0  \n",
       "2              51.0  \n",
       "3             240.0  \n",
       "4              60.0  "
      ]
     },
     "execution_count": 28,
     "metadata": {},
     "output_type": "execute_result"
    }
   ],
   "source": [
    "results_df.head()\n"
   ]
  },
  {
   "cell_type": "code",
   "execution_count": 27,
   "metadata": {},
   "outputs": [],
   "source": [
    "\n",
    "# Función para convertir el tiempo a días\n",
    "def convertir_a_dias(tiempo):\n",
    "    match = re.match(r'(\\d+)\\s*(Dia\\(s\\)|Mes\\(es\\))', tiempo)\n",
    "    if match:\n",
    "        cantidad = int(match.group(1))\n",
    "        unidad = match.group(2)\n",
    "        if unidad == 'Dia(s)':\n",
    "            return cantidad\n",
    "        elif unidad == 'Mes(es)':\n",
    "            return cantidad * 30  # Asumiendo 30 días por mes\n",
    "    return None\n",
    " \n",
    "# Aplicar la función a la columna 'duracion'\n",
    "results_df['duracion_en_dias'] = results_df['duraci_n_del_contrato'].apply(convertir_a_dias)"
   ]
  },
  {
   "cell_type": "code",
   "execution_count": 29,
   "metadata": {},
   "outputs": [],
   "source": [
    "results_df.proveedor_adjudicado = results_df.proveedor_adjudicado.str.upper()"
   ]
  },
  {
   "cell_type": "code",
   "execution_count": 30,
   "metadata": {},
   "outputs": [
    {
     "data": {
      "text/plain": [
       "proveedor_adjudicado\n",
       "SIN DESCRIPCION                      50\n",
       "LEON GRAFICAS S.A.S                  13\n",
       "ALLARTE LOGISTICA EMPRESARIAL SAS    13\n",
       "SANDRA MILENA GUTIERREZ BUITRAGO     11\n",
       "EDWIN ANDRÉS CASTRO NAVARRO          10\n",
       "CARACOL S.A.                         10\n",
       "NATALIA ANDREA DUQUE MUÑOZ           10\n",
       "JOSE FERNANDO PASSOS VILLARREAL      10\n",
       "RUTH MARINA ZEA JAIQUEL               9\n",
       "RCN RADIO S.A.S                       9\n",
       "Name: count, dtype: int64"
      ]
     },
     "execution_count": 30,
     "metadata": {},
     "output_type": "execute_result"
    }
   ],
   "source": [
    "results_df.proveedor_adjudicado.value_counts().head(10)"
   ]
  },
  {
   "cell_type": "code",
   "execution_count": 31,
   "metadata": {},
   "outputs": [
    {
     "data": {
      "text/plain": [
       "tipo_de_contrato\n",
       "Prestación de servicios       1016\n",
       "Suministros                     72\n",
       "Compraventa                     24\n",
       "Consultoría                      4\n",
       "Otro                             4\n",
       "Seguros                          3\n",
       "Arrendamiento de inmuebles       2\n",
       "Servicios financieros            1\n",
       "Venta muebles                    1\n",
       "Obra                             1\n",
       "Name: count, dtype: int64"
      ]
     },
     "execution_count": 31,
     "metadata": {},
     "output_type": "execute_result"
    }
   ],
   "source": [
    "results_df.tipo_de_contrato.value_counts()"
   ]
  },
  {
   "cell_type": "code",
   "execution_count": 9,
   "metadata": {},
   "outputs": [
    {
     "data": {
      "text/plain": [
       "tipo_de_contrato              10\n",
       "nombre_entidad                 1\n",
       "fecha_de_firma               355\n",
       "estado_contrato                9\n",
       "modalidad_de_contratacion      7\n",
       "condiciones_de_entrega         5\n",
       "valor_del_contrato           416\n",
       "duraci_n_del_contrato         95\n",
       "proveedor_adjudicado         444\n",
       "dtype: int64"
      ]
     },
     "execution_count": 9,
     "metadata": {},
     "output_type": "execute_result"
    }
   ],
   "source": [
    "results_df.nunique()"
   ]
  },
  {
   "cell_type": "code",
   "execution_count": null,
   "metadata": {},
   "outputs": [],
   "source": []
  }
 ],
 "metadata": {
  "kernelspec": {
   "display_name": "pandassocrata_1",
   "language": "python",
   "name": "python3"
  },
  "language_info": {
   "codemirror_mode": {
    "name": "ipython",
    "version": 3
   },
   "file_extension": ".py",
   "mimetype": "text/x-python",
   "name": "python",
   "nbconvert_exporter": "python",
   "pygments_lexer": "ipython3",
   "version": "3.10.14"
  }
 },
 "nbformat": 4,
 "nbformat_minor": 2
}
